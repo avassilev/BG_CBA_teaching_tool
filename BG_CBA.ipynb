{
 "cells": [
  {
   "cell_type": "code",
   "execution_count": 1,
   "metadata": {
    "collapsed": false,
    "scrolled": false
   },
   "outputs": [
    {
     "data": {
      "text/html": [
       "<script>\n",
       "code_show=true; \n",
       "function code_toggle() {\n",
       " if (code_show){\n",
       " $('div.input').hide();\n",
       " } else {\n",
       " $('div.input').show();\n",
       " }\n",
       " code_show = !code_show\n",
       "} \n",
       "$( document ).ready(code_toggle);\n",
       "</script>\n",
       "<form action=\"javascript:code_toggle()\"><input type=\"submit\" value=\"Показване/скриване на кода.\"></form>"
      ],
      "text/plain": [
       "<IPython.core.display.HTML object>"
      ]
     },
     "execution_count": 1,
     "metadata": {},
     "output_type": "execute_result"
    }
   ],
   "source": [
    "%matplotlib inline\n",
    "from IPython.display import display, Math, Latex, HTML\n",
    "import numpy as np\n",
    "import matplotlib.pyplot as plt\n",
    "import ipywidgets as widgets\n",
    "from ipywidgets import interact, interactive, fixed\n",
    "# from notebook import widgets\n",
    "plt.rcParams['figure.figsize'] = (10,8)\n",
    "\n",
    "HTML('''<script>\n",
    "code_show=true; \n",
    "function code_toggle() {\n",
    " if (code_show){\n",
    " $('div.input').hide();\n",
    " } else {\n",
    " $('div.input').show();\n",
    " }\n",
    " code_show = !code_show\n",
    "} \n",
    "$( document ).ready(code_toggle);\n",
    "</script>\n",
    "<form action=\"javascript:code_toggle()\"><input type=\"submit\" value=\"Показване/скриване на кода.\"></form>''')\n"
   ]
  },
  {
   "cell_type": "markdown",
   "metadata": {},
   "source": [
    "Кратко описание на модела\n",
    "=========================\n",
    "\n",
    "Равновесно производство и цени:\n",
    "\\begin{equation}\n",
    "\\bar{Y}_t=(1+\\bar{\\gamma})\\bar{Y}_{t-1}, \\quad \\bar{Y}_0 \\text{ -- дадено}\n",
    "\\label{eq:cbaYbar}\n",
    "\\end{equation}\n",
    "\n",
    "\\begin{equation}\n",
    "\\bar{P}_t=(1+\\bar{\\pi})\\bar{P}_{t-1},\\quad \\bar{P}_0 \\text{ -- дадено}\n",
    "\\label{eq:cbaPbar}\n",
    "\\end{equation}\n",
    "\n",
    "\\begin{equation}\n",
    "\\bar{P}^*_t=(1+\\bar{\\pi}^*)\\bar{P}^*_{t-1},\\quad \\bar{P}^*_0 \\text{ -- дадено}\n",
    "\\label{eq:cbaPbarStar}\n",
    "\\end{equation}\n",
    "\n",
    "IS връзка:\n",
    "\\begin{equation}\n",
    "\\hat{y}_t=A - a r_t + b \\hat{q}_t + c \\hat{g}_t + \\varepsilon_{1,t}\n",
    "\\label{eq:cbaIS}\n",
    "\\end{equation} \n",
    "\n",
    "PC връзка (,,крива'' на Филипс):\n",
    "\\begin{equation}\n",
    "\\pi_t = \\bar{\\pi} + d \\hat{y}_t +e \\hat{q}_t + \\varepsilon_{2,t}\n",
    "\\label{eq:cbaPC}\n",
    "\\end{equation}\n",
    "\n",
    "Реален валутен курс:\n",
    "\\begin{equation}\n",
    "\\hat{q}_t = \\pi^*_t - \\pi_t - (\\bar{\\pi}^* - \\bar{\\pi})\n",
    "\\label{eq:cbaRER}\n",
    "\\end{equation}\n",
    "\n",
    "Реални лихвени проценти:\n",
    "\\begin{equation}\n",
    "r_t \\approx i_t - \\pi_t \n",
    "\\label{eq:cbaRealIntRate}\n",
    "\\end{equation}\n",
    "\n",
    "\\begin{equation}\n",
    "r_t^* \\approx i_t^* - \\pi_t^*\n",
    "\\label{eq:cbaRealIntRateStar}\n",
    "\\end{equation} \n",
    "\n",
    "Номинален лихвен процент (с рискова премия):\n",
    "\\begin{equation}\n",
    "i_t = i^*_t + f \\hat{g}_t \n",
    "\\label{eq:cbaNomIntRate}\n",
    "\\end{equation}\n",
    "\n",
    "Баланс на управление ,,Емисионно'':\n",
    "\\begin{equation}\n",
    "F_t = M_t+ \\Gamma_t \n",
    "\\label{eq:cbaIntRes}\n",
    "\\end{equation}\n",
    "\n",
    "Уравнение, включващо скоростта на парично обращение:\n",
    "\\begin{equation}\n",
    "M_t V = P_t Y_t\n",
    "\\label{eq:cbaMonVel}\n",
    "\\end{equation}"
   ]
  },
  {
   "cell_type": "code",
   "execution_count": 2,
   "metadata": {
    "collapsed": true
   },
   "outputs": [],
   "source": [
    "# Parameters / Параметри\n",
    "rbar = 0.05\n",
    "a = 1\n",
    "b = 0.5\n",
    "c = 1\n",
    "d = 1.1\n",
    "e = 1\n",
    "f = 0.8\n",
    "pistarbar = 0.02\n",
    "gammabar = 0.03\n",
    "phi = 0.10\n",
    "tau = 0.35\n",
    "\n",
    "M_init = 12500\n",
    "Gamma_init = 10000\n",
    "\n",
    "# Derived quantitites\n",
    "A = a*rbar\n",
    "pibar = pistarbar\n",
    "F_init = M_init + Gamma_init\n",
    "Mshare = M_init/F_init\n",
    "\n",
    "# Exogenous variables and shocks / Екзогенни променливи и шокове\n",
    "eps1 = 0\n",
    "eps2 = 0\n",
    "ghat = 0\n",
    "rstar = A/a\n",
    "pistar = pistarbar\n",
    "\n",
    "# Function definitions / Дефиниции на съответните функции\n",
    "def ISline(r_in, apar, bpar, cpar, qhat_in=0, ghat_in=0, eps1_in=0):\n",
    "    yhat_out = (A - apar*r_in + bpar*qhat_in + cpar*ghat_in + eps1_in)\n",
    "    return yhat_out\n",
    "\n",
    "def PCline(dpar, epar, yhat_in=0, qhat_in=0, eps2_in=0):\n",
    "    pi_out = (pibar + dpar*yhat_in + epar*qhat_in + eps2_in)\n",
    "    return pi_out\n",
    "\n",
    "def yhatfinal(rstar_in=rstar, Apar=A, apar=a, bpar=b, cpar=c, dpar=d, epar=e, fpar=f, \n",
    "              pistar_in=pistarbar, ghat_in=0, eps1_in=0, eps2_in=0):\n",
    "    yhat_out = ((1+epar)/(1+epar-dpar*(apar-bpar))*(Apar-apar*rstar_in) + \n",
    "        ((1+epar)*(cpar-apar*fpar))/(1+epar-dpar*(apar-bpar))*ghat_in + \n",
    "        (bpar-apar)/(1+epar-dpar*(apar-bpar))*(pistar_in-pistarbar) + \n",
    "        ((1+epar)*apar)/(1+epar-dpar*(apar-bpar))*(pibar-pistarbar) + \n",
    "        (1+epar)/(1+epar-dpar*(apar-bpar))*eps1_in + \n",
    "        (apar-bpar)/(1+epar-dpar*(apar-bpar))*eps2_in )\n",
    "    return yhat_out\n",
    "\n",
    "def pifinal(rstar_in=rstar, Apar=A, apar=a, bpar=b, cpar=c, dpar=d, epar=e, fpar=f, pistar_in=pistarbar, ghat_in=0, eps1_in=0, eps2_in=0):\n",
    "    pi_out = ((1+epar+dpar*bpar)/(1+epar-dpar*(apar-bpar))*pibar + \n",
    "      dpar/(1+epar-dpar*(apar-bpar))*(Apar-apar*rstar_in) + \n",
    "      (dpar*(cpar-apar*fpar))/(1+epar-dpar*(apar-bpar))*ghat_in + \n",
    "      (epar-dpar*(apar-bpar))/(1+epar-dpar*(apar-bpar))*pistar_in - \n",
    "      (dpar*bpar+epar)/(1+epar-dpar*(apar-bpar))*pistarbar + \n",
    "      dpar/(1+epar-dpar*(apar-bpar))*eps1_in + \n",
    "      1/(1+epar-dpar*(apar-bpar))*eps2_in )\n",
    "    return pi_out\n",
    "\n",
    "def ComputeDelta(phipar, gammabarpar, pibarpar):\n",
    "    return phipar/((1+pibarpar)*(1+gammabarpar))*((1+pibarpar)*(1+gammabarpar)-1)\n",
    "\n",
    "def Mchange(infl,yht,gammabarpar):\n",
    "    return (1+infl)*(1+yht)*(1+gammabarpar)-1\n",
    "\n",
    "def Gammachange(infl,yht,ght,gammabarpar,phipar,taupar,pibarpar):\n",
    "    deltapar = ComputeDelta(phipar,gammabarpar,pibarpar)\n",
    "    return ((1+infl)*(1+gammabarpar))/phipar*( taupar*(1+yht)-(taupar-deltapar)*(1+ght) )\n",
    "\n",
    "def Fchange(Mch,Gch,Mshare):\n",
    "    return Mshare*Mch + (1-Mshare)*Gch"
   ]
  },
  {
   "cell_type": "code",
   "execution_count": 3,
   "metadata": {
    "collapsed": false
   },
   "outputs": [],
   "source": [
    "yhat = yhatfinal(rstar)\n",
    "\n",
    "Pi = pifinal(rstar)\n",
    "\n",
    "yhat_vec = np.array([-0.06,0.06]) \n",
    "Pi_vec = PCline(d,e,yhat_vec,0,eps2)\n",
    "rstar_vec = np.array([-0.01,0.12])\n",
    "r_vec = rstar_vec\n",
    "pi_vec = pifinal(rstar_vec)\n"
   ]
  },
  {
   "cell_type": "markdown",
   "metadata": {},
   "source": [
    "Свойства на IS връзката\n",
    "======================="
   ]
  },
  {
   "cell_type": "code",
   "execution_count": 4,
   "metadata": {
    "collapsed": false
   },
   "outputs": [
    {
     "data": {
      "image/png": "[encoded data removed]",
      "text/plain": [
       "<matplotlib.figure.Figure at 0x98bfb38>"
      ]
     },
     "metadata": {},
     "output_type": "display_data"
    }
   ],
   "source": [
    "qht_min = -0.05\n",
    "qht_max = 0.05\n",
    "ght_min = -0.05\n",
    "ght_max = 0.05\n",
    "e1_min = -0.05\n",
    "e1_max = 0.05\n",
    "ap_min = 0.0\n",
    "ap_max = 2.0\n",
    "def displayISline(rr,qht,ght,e1,ap):\n",
    "    yht_0 = ISline(rr,a,b,c,0,0,0)\n",
    "    yht = ISline(rr,ap,b,c,qht,ght,e1)\n",
    "    plt.plot(yht_0,rr,'k-')\n",
    "    plt.plot(yht,rr)\n",
    "    xmin = min(ISline(rr,ap_max,b,c,qht_min,ght_min,e1_min))\n",
    "    xmax = max(ISline(rr,ap_max,b,c,qht_max,ght_max,e1_max))\n",
    "    xl = xmin*1.15 if xmin<=0 else xmin*0.85\n",
    "    xu = xmax*0.85 if xmax<=0 else xmax*1.15\n",
    "    \n",
    "    if min(rr)<0:\n",
    "        yl = min(rr)*1.15\n",
    "    elif min(rr)>0:\n",
    "        yl = min(rr)*0.85\n",
    "    else: \n",
    "        yl = -0.01    \n",
    "    \n",
    "    if max(rr)<0:\n",
    "        yu = max(rr)*0.85\n",
    "    elif max(rr)>0:\n",
    "        yu = max(rr)*1.15\n",
    "    else: \n",
    "        yu = 0.01   \n",
    "    \n",
    "    plt.xlim([xl,xu])\n",
    "    plt.ylim([yl,yu])\n",
    "    plt.hlines(0, xl, xu)\n",
    "    plt.vlines(0, yl, yu)\n",
    "    plt.xlabel('$\\hat{y}_t$',fontsize=20)\n",
    "    plt.ylabel('$r_t$',fontsize=20)\n",
    "    plt.text(yht_0[0],rr[0]+0.002,\"$IS_0$\",fontsize=15)\n",
    "    plt.text(yht[-1],rr[-1],\"$IS_1$\",fontsize=15,color=\"blue\")\n",
    "    \n",
    "wIS = interactive(displayISline,\n",
    "                rr = fixed(r_vec),\n",
    "                qht = widgets.FloatSlider(min=qht_min,max=qht_max,step=0.01,description=\"$\\hat{q}_t$\",continuous_update=False), \n",
    "                ght = widgets.FloatSlider(min=ght_min,max=ght_max,step=0.01,description=\"$\\hat{g}_t$\",continuous_update=False), \n",
    "                e1 = widgets.FloatSlider(min=e1_min,max=e1_max,step=0.01,description=\"$\\epsilon_{1,t}$\",continuous_update=False),\n",
    "                ap = widgets.FloatSlider(min=ap_min,max=ap_max,step=0.1,value=a,description=\"$a$\",continuous_update=False))\n",
    "display(wIS)"
   ]
  },
  {
   "cell_type": "markdown",
   "metadata": {},
   "source": [
    "Свойства на PC връзката\n",
    "======================="
   ]
  },
  {
   "cell_type": "code",
   "execution_count": 5,
   "metadata": {
    "collapsed": false
   },
   "outputs": [
    {
     "data": {
      "image/png": "[encoded data removed]",
      "text/plain": [
       "<matplotlib.figure.Figure at 0x7d4c048>"
      ]
     },
     "metadata": {},
     "output_type": "display_data"
    }
   ],
   "source": [
    "qht_min = -0.05\n",
    "qht_max = 0.05\n",
    "e2_min = -0.05\n",
    "e2_max = 0.05\n",
    "dp_min = 0.0\n",
    "dp_max = 2.0\n",
    "def displayPCline(yht,qht,e2,dp):\n",
    "    infl_0 = PCline(d,e,yht,0,0)\n",
    "    infl = PCline(dp,e,yht,qht,e2)\n",
    "    plt.plot(yht,infl_0,'k-')\n",
    "    plt.plot(yht,infl)\n",
    "    \n",
    "    if min(yht)<0:\n",
    "        xl = min(yht)*1.15\n",
    "    elif min(yht)>0:\n",
    "        xl = min(yht)*0.85 \n",
    "    else: \n",
    "        xl = -0.01    \n",
    "    \n",
    "    if max(yht)<0:\n",
    "        xu = max(yht)*0.85\n",
    "    elif max(yht)>0:\n",
    "        xu = max(yht)*1.15\n",
    "    else: \n",
    "        xu = 0.01   \n",
    "    \n",
    "    ymin = min(PCline(dp_max,e,yht,qht_min,e2_min))\n",
    "    ymax = max(PCline(dp_max,e,yht,qht_max,e2_max))\n",
    "    yl = ymin*1.15 if ymin<=0 else ymin*0.85\n",
    "    yu = ymax*0.85 if ymax<=0 else ymax*1.15\n",
    "    plt.xlim([xl,xu])\n",
    "    plt.ylim([yl,yu])\n",
    "    plt.hlines(0, xl, xu)\n",
    "    plt.vlines(0, yl, yu)\n",
    "    plt.xlabel('$\\hat{y}_t$',fontsize=20)\n",
    "    plt.ylabel('$\\pi_t$',fontsize=20)\n",
    "    plt.text(yht[0],infl_0[0]-0.02,\"$PC_0$\",fontsize=15)\n",
    "    plt.text(yht[-1]-0.005,infl[-1]+0.01,\"$PC_1$\",fontsize=15,color=\"blue\")\n",
    "\n",
    "wPC = interactive(displayPCline, \n",
    "                yht = fixed(yhat_vec),\n",
    "                qht = widgets.FloatSlider(min=qht_min,max=qht_max,step=0.01,description=\"$\\hat{q}_t$\",continuous_update=False),\n",
    "                e2 = widgets.FloatSlider(min=e2_min,max=e2_max,step=0.01,description=\"$\\epsilon_{2,t}$\",continuous_update=False),\n",
    "                dp = widgets.FloatSlider(min=dp_min,max=dp_max,step=0.1,value=d, description=\"$d$\",continuous_update=False))\n",
    "display(wPC)"
   ]
  },
  {
   "cell_type": "markdown",
   "metadata": {},
   "source": [
    "Решение на модела\n",
    "================="
   ]
  },
  {
   "cell_type": "code",
   "execution_count": 6,
   "metadata": {
    "collapsed": false
   },
   "outputs": [
    {
     "name": "stdout",
     "output_type": "stream",
     "text": [
      "При зададените стойности на параметрите, шоковете и екзогенните променливи инфлацията е 2.0%.\n",
      "Отклонението от потенциалното производство е 0.0%.\n",
      "Изменението на резервните пари е 5.1%.\n",
      "Изменението на депозита на правителството в централната банка е 5.1%.\n",
      "Изменението на валутните резерви е 5.1%.\n"
     ]
    },
    {
     "data": {
      "image/png": "[encoded data removed]",
      "text/plain": [
       "<matplotlib.figure.Figure at 0x9accc88>"
      ]
     },
     "metadata": {},
     "output_type": "display_data"
    }
   ],
   "source": [
    "plt.rcdefaults()\n",
    "plt.rcParams['font.family'] = 'fantasy'\n",
    "plt.rcParams['font.fantasy'] = 'Times New Roman', 'Ubuntu','Arial','Tahoma','Calibri'\n",
    "\n",
    "rstar_min = -0.05\n",
    "rstar_max = 0.10\n",
    "pistar_min = -0.05\n",
    "pistar_max = 0.10\n",
    "ghat_min = -0.05\n",
    "ghat_max = 0.05\n",
    "eps1_min = -0.05\n",
    "eps1_max = 0.05\n",
    "eps2_min = -0.05\n",
    "eps2_max = 0.05\n",
    "Ap_min = 0.0\n",
    "Ap_max = 2.0\n",
    "ap_min = 0.0\n",
    "ap_max = 2.0\n",
    "bp_min = 0.0\n",
    "bp_max = 2.0\n",
    "cp_min = 0.0\n",
    "cp_max = 2.0\n",
    "dp_min = 0.0\n",
    "dp_max = 2.0\n",
    "ep_min = 0.0\n",
    "ep_max = 2.0\n",
    "fp_min = 0.0\n",
    "fp_max = 2.0\n",
    "phip_min = 0.05\n",
    "phip_max = 0.3\n",
    "taup_min = 0.30\n",
    "taup_max = 0.45\n",
    "gammabp_min = 0.0\n",
    "gammabp_max = 0.04\n",
    "\n",
    "def printmainvars(Apar=A, apar=a, bpar=b, cpar=c, dpar=d, epar=e, fpar=f, gammabarpar=gammabar, \n",
    "                  rstar_in=rstar, pistar_in=pistarbar, ghat_in=0, eps1_in=0, eps2_in=0,\n",
    "                  phipar=phi, taupar=tau, Mshpar=Mshare):\n",
    "    yhatsol = yhatfinal(rstar_in, Apar, apar, bpar, cpar, dpar, epar, fpar, pistar_in, ghat_in, eps1_in, eps2_in)\n",
    "    pisol = pifinal(rstar_in, Apar, apar, bpar, cpar, dpar, epar, fpar, pistar_in, ghat_in, eps1_in, eps2_in)\n",
    "    pisol = round(pisol,3)\n",
    "    yhatsol = round(yhatsol,3)\n",
    "    Mchsol = Mchange(pisol,yhatsol,gammabarpar)\n",
    "    Gammachsol = Gammachange(pisol,yhatsol,ghat_in,gammabarpar,phipar,taupar,pibar) \n",
    "    Fchsol = Fchange(Mchsol,Gammachsol,Mshpar)\n",
    "    print(\"При зададените стойности на параметрите, шоковете и екзогенните променливи инфлацията е {:0.1f}%.\".format(pisol*100))\n",
    "    print(\"Отклонението от потенциалното производство е {:0.1f}%.\".format(yhatsol*100))\n",
    "    print(\"Изменението на резервните пари е {:0.1f}%.\".format(Mchsol*100))\n",
    "    print(\"Изменението на депозита на правителството в централната банка е {:0.1f}%.\".format(Gammachsol*100))\n",
    "    print(\"Изменението на валутните резерви е {:0.1f}%.\".format(Fchsol*100))\n",
    "    \n",
    "    pct_multiplier = 100\n",
    "    \n",
    "    yhatsol*=pct_multiplier\n",
    "    pisol*=pct_multiplier\n",
    "    Mchsol*=pct_multiplier\n",
    "    Gammachsol*=pct_multiplier\n",
    "    Fchsol*=pct_multiplier\n",
    "    \n",
    "    f, (ax1, ax2) = plt.subplots(1, 2)\n",
    "    ax1.scatter(yhatsol,pisol,s=100,c='r')\n",
    "    ax1.set_xlabel('$\\hat{y}_t$, %',fontsize=20)\n",
    "    ax1.set_ylabel('$\\pi_t$, %',fontsize=20)\n",
    "    ax1.set_xlim([-0.2*pct_multiplier,0.2*pct_multiplier])\n",
    "    ax1.set_ylim([-0.2*pct_multiplier,0.2*pct_multiplier])\n",
    "    ax1.hlines(0,-.2*pct_multiplier,.2*pct_multiplier)\n",
    "    ax1.hlines(pibar*pct_multiplier,-.2*pct_multiplier,.2*pct_multiplier,linestyles='dashed')\n",
    "    ax1.vlines(0,-.2*pct_multiplier,.2*pct_multiplier)\n",
    "    \n",
    "    if yhatsol<0:\n",
    "        ytext = \"Рецесия\"\n",
    "    elif yhatsol>0:\n",
    "        ytext=\"Прегряване\"\n",
    "    else:\n",
    "        ytext=\"Равновесие\"\n",
    "    \n",
    "    if pisol==pibar*pct_multiplier:\n",
    "        pitext=\"Равновесна\\nинфлация\"\n",
    "    elif pisol>pibar*pct_multiplier:\n",
    "        pitext=\"Инфлация\\nнад\\nравновесната\"\n",
    "    elif 0<pisol<pibar*pct_multiplier:\n",
    "        pitext=\"Инфлация\\nпод\\nравновесната\"\n",
    "    elif pisol<0:\n",
    "        pitext= \"Дефлация\"\n",
    "    else:\n",
    "        pitext=\"???\"\n",
    "    \n",
    "    txt = ytext + \",\\n\" + pitext\n",
    "    ax1.text(0.05*pct_multiplier,0.1*pct_multiplier, txt, size=\"medium\")\n",
    "    \n",
    "    ax2.bar([1,2,3],[Mchsol,Fchsol,Gammachsol],color=['g','r','g'])\n",
    "    ax2.set_xlim([0.75,4.0])\n",
    "    ax2.set_ylabel('изменение, %',fontsize=20)\n",
    "    ax2.set_xticks([1.5,2.5,3.5]) \n",
    "    ax2.set_xticklabels([\"$M_t$\", \"$F_t$\", \"$\\Gamma_t$\"],fontsize=20)\n",
    "    f.tight_layout() # to prevent label overlap\n",
    "    \n",
    "wsol = interactive(printmainvars,                      \n",
    "                  Apar = widgets.BoundedFloatText(min=Ap_min,max=Ap_max,step=0.01,value=A,description=\"$A$\"),\n",
    "                  apar = widgets.BoundedFloatText(min=ap_min,max=ap_max,step=0.01,value=a,description=\"$a$\"),\n",
    "                  bpar = widgets.BoundedFloatText(min=bp_min,max=bp_max,step=0.01,value=b,description=\"$b$\"),\n",
    "                  cpar = widgets.BoundedFloatText(min=cp_min,max=cp_max,step=0.01,value=c,description=\"$c$\"),\n",
    "                  dpar = widgets.BoundedFloatText(min=dp_min,max=dp_max,step=0.01,value=d,description=\"$d$\"),\n",
    "                  epar = widgets.BoundedFloatText(min=ep_min,max=ep_max,step=0.01,value=e,description=\"$e$\"),\n",
    "                  fpar = widgets.BoundedFloatText(min=fp_min,max=fp_max,step=0.01,value=f,description=\"$f$\"),\n",
    "                  gammabarpar = widgets.BoundedFloatText(min=gammabp_min,max=gammabp_max,step=0.01,value=gammabar,description=r\"$ \\bar{\\gamma}  $\"),\n",
    "                  rstar_in = widgets.FloatSlider(min=rstar_min,max=rstar_max,step=0.01,value=rstar,description=\"$r^*_t$\"),\n",
    "                  pistar_in = widgets.FloatSlider(min=pistar_min,max=pistar_max,step=0.01,value=pistar,description=\"$\\pi^*_t$\"),\n",
    "                  ghat_in = widgets.FloatSlider(min=ghat_min,max=ghat_max,step=0.01,value=0,description=\"$\\hat{g}_t$\"),\n",
    "                  eps1_in = widgets.FloatSlider(min=eps1_min,max=eps1_max,step=0.01,value=0,description=\"$\\epsilon_{1,t}$\"),\n",
    "                  eps2_in = widgets.FloatSlider(min=eps2_min,max=eps2_max,step=0.01,value=0,description=\"$\\epsilon_{2,t}$\"),\n",
    "                  phipar = widgets.FloatSlider(min=phip_min,max=phip_max,step=0.01,value=phi,description=\"$\\phi$\"),\n",
    "                  taupar = widgets.FloatSlider(min=taup_min,max=taup_max,step=0.01,value=tau,description= r'$ \\tau $'),\n",
    "                  Mshpar = widgets.FloatSlider(min=0,max=1,step=0.01,value=Mshare,description=r'$\\frac{M_{t-1}}{F_{t-1}}$'),\n",
    "                  __manual=True)\n",
    "wsol.children[-1].description = \"Покажи\"\n",
    "display(wsol)"
   ]
  }
 ],
 "metadata": {
  "kernelspec": {
   "display_name": "Python 3",
   "language": "python",
   "name": "python3"
  },
  "language_info": {
   "codemirror_mode": {
    "name": "ipython",
    "version": 3
   },
   "file_extension": ".py",
   "mimetype": "text/x-python",
   "name": "python",
   "nbconvert_exporter": "python",
   "pygments_lexer": "ipython3",
   "version": "3.5.2"
  },
  "widgets": {
   "state": {
    "44cc5a3308a64e1195179888d41474b5": {
     "views": [
      {
       "cell_index": 5
      }
     ]
    },
    "478173ebd5c84fc1ac04724f0ff74fc6": {
     "views": [
      {
       "cell_index": 9
      }
     ]
    },
    "993352a446a9407b81505350600bd567": {
     "views": [
      {
       "cell_index": 7
      }
     ]
    }
   },
   "version": "1.2.0"
  }
 },
 "nbformat": 4,
 "nbformat_minor": 0
}
